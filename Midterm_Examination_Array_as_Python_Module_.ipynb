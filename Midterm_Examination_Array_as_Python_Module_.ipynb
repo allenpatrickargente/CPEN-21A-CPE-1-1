{
  "nbformat": 4,
  "nbformat_minor": 0,
  "metadata": {
    "colab": {
      "provenance": [],
      "authorship_tag": "ABX9TyMLZyKKPEwq8WYLy0/9hOXf",
      "include_colab_link": true
    },
    "kernelspec": {
      "name": "python3",
      "display_name": "Python 3"
    },
    "language_info": {
      "name": "python"
    }
  },
  "cells": [
    {
      "cell_type": "markdown",
      "metadata": {
        "id": "view-in-github",
        "colab_type": "text"
      },
      "source": [
        "<a href=\"https://colab.research.google.com/github/allenpatrickargente/CPEN-21A-CPE-1-1/blob/main/Midterm_Examination_Array_as_Python_Module_.ipynb\" target=\"_parent\"><img src=\"https://colab.research.google.com/assets/colab-badge.svg\" alt=\"Open In Colab\"/></a>"
      ]
    },
    {
      "cell_type": "markdown",
      "source": [
        "1.\tWrite a Python program to create an array of 10 integers and display the array items. Access individual elements through indexes and compute for the sum."
      ],
      "metadata": {
        "id": "VKA1dWhMXMYD"
      }
    },
    {
      "cell_type": "code",
      "execution_count": 1,
      "metadata": {
        "colab": {
          "base_uri": "https://localhost:8080/"
        },
        "id": "jDG352NAXGVh",
        "outputId": "4ade623f-5b2f-48c6-aee3-09f586e1f699"
      },
      "outputs": [
        {
          "output_type": "stream",
          "name": "stdout",
          "text": [
            "list of an array:  [11, 12, 13, 14, 15, 16, 17, 18, 19, 20]\n",
            "0 11\n",
            "1 12\n",
            "2 13\n",
            "3 14\n",
            "4 15\n",
            "5 16\n",
            "6 17\n",
            "7 18\n",
            "8 19\n",
            "9 20\n",
            "Sum of all the elements of the array: 155\n"
          ]
        }
      ],
      "source": [
        "sum = 0\n",
        "list = [11,12,13,14,15,16,17,18,19,20]\n",
        "print(\"list of an array: \", list)\n",
        "for index , val in enumerate(list):\n",
        "  print(index,val)\n",
        "\n",
        "#sum of the array\n",
        "for i in range(0, len(list)):\n",
        "  sum = sum + int(list[i]);\n",
        "\n",
        "print(\"Sum of all the elements of the array: \" +str(sum))"
      ]
    },
    {
      "cell_type": "markdown",
      "source": [
        "2.\tWrite a Python program to append a new item to the end of the array. Original array: numbers = [1, 2, 3, 4, 5, 6, 7, 8, 9, 10]"
      ],
      "metadata": {
        "id": "jIrZ5k19XOo7"
      }
    },
    {
      "cell_type": "code",
      "source": [
        "from array import *\n",
        "array_num = array('i', [1,2,3,4,5,6,7,8,9,10])\n",
        "print(\"Original Numbers: \"+str(array_num))\n",
        "array_num.append(11)\n",
        "print(\"New Numbers: \"+str(array_num))"
      ],
      "metadata": {
        "colab": {
          "base_uri": "https://localhost:8080/"
        },
        "id": "vTWPiXrVXR-Q",
        "outputId": "9f4f9af5-08a2-4e93-8fc7-0b9397b76262"
      },
      "execution_count": 2,
      "outputs": [
        {
          "output_type": "stream",
          "name": "stdout",
          "text": [
            "Original Numbers: array('i', [1, 2, 3, 4, 5, 6, 7, 8, 9, 10])\n",
            "New Numbers: array('i', [1, 2, 3, 4, 5, 6, 7, 8, 9, 10, 11])\n"
          ]
        }
      ]
    },
    {
      "cell_type": "markdown",
      "source": [
        "3.\tWrite a Python program to insert a new item before the last element in an existing array. Original array: numbers = [1, 2, 3, 4, 5, 6, 7, 8, 9, 10]"
      ],
      "metadata": {
        "id": "FVPNTLkxXUS-"
      }
    },
    {
      "cell_type": "code",
      "source": [
        "from array import *\n",
        "array_num = array('i', [1,2,3,4,5,6,7,8,9,10])\n",
        "print(\"Original array: \"+str(array_num))\n",
        "array_num.insert(9,69)\n",
        "print(\"New array: \"+str(array_num))"
      ],
      "metadata": {
        "colab": {
          "base_uri": "https://localhost:8080/"
        },
        "id": "0PS5VVV2XVq0",
        "outputId": "ec52f27f-238b-43aa-feb1-466e104511b5"
      },
      "execution_count": 3,
      "outputs": [
        {
          "output_type": "stream",
          "name": "stdout",
          "text": [
            "Original array: array('i', [1, 2, 3, 4, 5, 6, 7, 8, 9, 10])\n",
            "New array: array('i', [1, 2, 3, 4, 5, 6, 7, 8, 9, 69, 10])\n"
          ]
        }
      ]
    },
    {
      "cell_type": "markdown",
      "source": [
        "4.\tWrite a Python program to reverse the order of the items in the array. Original array: numbers = [1, 2, 3, 4, 5]"
      ],
      "metadata": {
        "id": "xuwnIwViXWyd"
      }
    },
    {
      "cell_type": "code",
      "source": [
        "from array import *\n",
        "array_num = array('i', [1,2,3,4,5])\n",
        "print(\"Original array: \"+str(array_num))\n",
        "array_num.reverse()\n",
        "print(\"Reverse the order of the items:\")\n",
        "print(str(array_num))"
      ],
      "metadata": {
        "colab": {
          "base_uri": "https://localhost:8080/"
        },
        "id": "wBS3QvCDXYfW",
        "outputId": "df21d991-e257-42fd-c72b-6acb79f44ce4"
      },
      "execution_count": 4,
      "outputs": [
        {
          "output_type": "stream",
          "name": "stdout",
          "text": [
            "Original array: array('i', [1, 2, 3, 4, 5])\n",
            "Reverse the order of the items:\n",
            "array('i', [5, 4, 3, 2, 1])\n"
          ]
        }
      ]
    },
    {
      "cell_type": "markdown",
      "source": [
        "5.\tLet A be an array of size n ≥ 2 containing integers from 1 to n−1, inclusive, with exactly one repeated. Create an algorithm for finding the integer in A that is repeated."
      ],
      "metadata": {
        "id": "4xAQncKtXZik"
      }
    },
    {
      "cell_type": "code",
      "source": [
        "from array import *\n",
        "\n",
        "\n",
        "def sample(n=2):\n",
        "    \"\"\"Produces one sample for testing.\"\"\"\n",
        "    assert n >= 2\n",
        "    l = []\n",
        "    for i in range(1, n):\n",
        "        l.append(i)\n",
        "    l.append(random.choice(l))\n",
        "    random.shuffle(l)\n",
        "    return l"
      ],
      "metadata": {
        "id": "IAsZbfAKXana"
      },
      "execution_count": 5,
      "outputs": []
    }
  ]
}