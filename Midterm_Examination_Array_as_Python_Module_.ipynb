{
  "nbformat": 4,
  "nbformat_minor": 0,
  "metadata": {
    "colab": {
      "provenance": [],
      "authorship_tag": "ABX9TyMLZyKKPEwq8WYLy0/9hOXf",
      "include_colab_link": true
    },
    "kernelspec": {
      "name": "python3",
      "display_name": "Python 3"
    },
    "language_info": {
      "name": "python"
    }
  },
  "cells": [
    {
      "cell_type": "markdown",
      "metadata": {
        "id": "view-in-github",
        "colab_type": "text"
      },
      "source": [
        "<a href=\"https://colab.research.google.com/github/allenpatrickargente/CPEN-21A-CPE-1-1/blob/main/Midterm_Examination_Array_as_Python_Module_.ipynb\" target=\"_parent\"><img src=\"https://colab.research.google.com/assets/colab-badge.svg\" alt=\"Open In Colab\"/></a>"
      ]
    },
    {
      "cell_type": "markdown",
      "source": [
        "1.\tWrite a Python program to create an array of 10 integers and display the array items. Access individual elements through indexes and compute for the sum."
      ],
      "metadata": {
        "id": "VKA1dWhMXMYD"
      }
    },
    {
      "cell_type": "code",
      "execution_count": null,
      "metadata": {
        "id": "jDG352NAXGVh"
      },
      "outputs": [],
      "source": [
        "sum = 0\n",
        "list = [11,12,13,14,15,16,17,18,19,20]\n",
        "print(\"list of an array: \", list)\n",
        "for index , val in enumerate(list):\n",
        "  print(index,val)\n",
        "\n",
        "#sum of the array\n",
        "for i in range(0, len(list)):\n",
        "  sum = sum + int(list[i]);\n",
        "\n",
        "print(\"Sum of all the elements of the array: \" +str(sum))"
      ]
    },
    {
      "cell_type": "markdown",
      "source": [
        "2.\tWrite a Python program to append a new item to the end of the array. Original array: numbers = [1, 2, 3, 4, 5, 6, 7, 8, 9, 10]"
      ],
      "metadata": {
        "id": "jIrZ5k19XOo7"
      }
    },
    {
      "cell_type": "code",
      "source": [
        "from array import *\n",
        "array_num = array('i', [1,2,3,4,5,6,7,8,9,10])\n",
        "print(\"Original Numbers: \"+str(array_num))\n",
        "array_num.append(11)\n",
        "print(\"New Numbers: \"+str(array_num))"
      ],
      "metadata": {
        "id": "vTWPiXrVXR-Q"
      },
      "execution_count": null,
      "outputs": []
    },
    {
      "cell_type": "markdown",
      "source": [
        "3.\tWrite a Python program to insert a new item before the last element in an existing array. Original array: numbers = [1, 2, 3, 4, 5, 6, 7, 8, 9, 10]"
      ],
      "metadata": {
        "id": "FVPNTLkxXUS-"
      }
    },
    {
      "cell_type": "code",
      "source": [
        "from array import *\n",
        "array_num = array('i', [1,2,3,4,5,6,7,8,9,10])\n",
        "print(\"Original array: \"+str(array_num))\n",
        "array_num.insert(9,69)\n",
        "print(\"New array: \"+str(array_num))"
      ],
      "metadata": {
        "id": "0PS5VVV2XVq0"
      },
      "execution_count": null,
      "outputs": []
    },
    {
      "cell_type": "markdown",
      "source": [
        "4.\tWrite a Python program to reverse the order of the items in the array. Original array: numbers = [1, 2, 3, 4, 5]"
      ],
      "metadata": {
        "id": "xuwnIwViXWyd"
      }
    },
    {
      "cell_type": "code",
      "source": [
        "from array import *\n",
        "array_num = array('i', [1,2,3,4,5])\n",
        "print(\"Original array: \"+str(array_num))\n",
        "array_num.reverse()\n",
        "print(\"Reverse the order of the items:\")\n",
        "print(str(array_num))"
      ],
      "metadata": {
        "id": "wBS3QvCDXYfW"
      },
      "execution_count": null,
      "outputs": []
    },
    {
      "cell_type": "markdown",
      "source": [
        "5.\tLet A be an array of size n ≥ 2 containing integers from 1 to n−1, inclusive, with exactly one repeated. Create an algorithm for finding the integer in A that is repeated."
      ],
      "metadata": {
        "id": "4xAQncKtXZik"
      }
    },
    {
      "cell_type": "code",
      "source": [
        "from array import *\n",
        "\n",
        "\n",
        "def sample(n=2):\n",
        "    \"\"\"Produces one sample for testing.\"\"\"\n",
        "    assert n >= 2\n",
        "    l = []\n",
        "    for i in range(1, n):\n",
        "        l.append(i)\n",
        "    l.append(random.choice(l))\n",
        "    random.shuffle(l)\n",
        "    return l"
      ],
      "metadata": {
        "id": "IAsZbfAKXana"
      },
      "execution_count": null,
      "outputs": []
    }
  ]
}