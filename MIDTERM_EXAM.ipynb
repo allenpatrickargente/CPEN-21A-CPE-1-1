{
  "nbformat": 4,
  "nbformat_minor": 0,
  "metadata": {
    "colab": {
      "name": "MIDTERM EXAM",
      "provenance": [],
      "authorship_tag": "ABX9TyONKXd2LRHeImsy0yKPtDNn",
      "include_colab_link": true
    },
    "kernelspec": {
      "name": "python3",
      "display_name": "Python 3"
    },
    "language_info": {
      "name": "python"
    }
  },
  "cells": [
    {
      "cell_type": "markdown",
      "metadata": {
        "id": "view-in-github",
        "colab_type": "text"
      },
      "source": [
        "<a href=\"https://colab.research.google.com/github/allenpatrickargente/CPEN-21A-CPE-1-1/blob/main/MIDTERM_EXAM.ipynb\" target=\"_parent\"><img src=\"https://colab.research.google.com/assets/colab-badge.svg\" alt=\"Open In Colab\"/></a>"
      ]
    },
    {
      "cell_type": "code",
      "metadata": {
        "colab": {
          "base_uri": "https://localhost:8080/"
        },
        "id": "9JC18528h20-",
        "outputId": "144c3570-6b3f-4f91-920d-915ef61abdbb"
      },
      "source": [
        "print(\"a Name:Allen PAtrick M. Argente\")\n",
        "print(\"b Student Number: 2020101513\")\n",
        "print(\"c Age:18\")\n",
        "print(\"d Birthday:july,04,2003\")\n",
        "print(\"e Address:munting mapino Naic, Cavite\")\n",
        "print(\"f Course:Bachelor of Science in Computer Engineering\")\n",
        "print(\"g Last sem GWA:87\")"
      ],
      "execution_count": null,
      "outputs": [
        {
          "output_type": "stream",
          "name": "stdout",
          "text": [
            "a Name:Allen PAtrick M. Argente\n",
            "b Student Number: 2020101513\n",
            "c Age:18\n",
            "d Birthday:july,04,2003\n",
            "e Address:munting mapino Naic, Cavite\n",
            "f Course:Bachelor of Science in Computer Engineering\n",
            "g Last sem GWA:87\n"
          ]
        }
      ]
    },
    {
      "cell_type": "code",
      "metadata": {
        "colab": {
          "base_uri": "https://localhost:8080/"
        },
        "id": "GvAscZo_jBmz",
        "outputId": "af085139-91fc-42a6-a25e-ae74feeb37e1"
      },
      "source": [
        "n=4\n",
        "print((2<n)and(n<6))\n",
        "print((2<n)or(n==6))\n",
        "print(not(2<n)or(n==6))\n",
        "print(not(n<6))\n",
        "answ=\"Y\"\n",
        "print((answ==\"Y\")or(answ==\"y\"))\n",
        "print((answ==\"Y\")and(answ==\"y\"))\n",
        "print(not(answ==\"y\"))\n",
        "print(((2<n)and(n==5+1))or(answ==\"No\"))\n",
        "print(((n==2)and(n==7))or(answ==\"Y\"))\n",
        "print((n==2)and((n==7)or(answ==\"Y\")))"
      ],
      "execution_count": null,
      "outputs": [
        {
          "output_type": "stream",
          "name": "stdout",
          "text": [
            "True\n",
            "True\n",
            "False\n",
            "False\n",
            "True\n",
            "False\n",
            "True\n",
            "False\n",
            "True\n",
            "False\n"
          ]
        }
      ]
    },
    {
      "cell_type": "code",
      "metadata": {
        "colab": {
          "base_uri": "https://localhost:8080/"
        },
        "id": "A7THEuiIpX2M",
        "outputId": "46e25e6a-b1d6-4660-ebc1-1550c1faea8e"
      },
      "source": [
        "x=2\n",
        "y=-3\n",
        "w=7\n",
        "z=-10\n",
        "print(a/y)\n",
        "print(w/y/x)\n",
        "print(z/y%x\t)\n",
        "print(x%-y*w)\n",
        "print(x%y\t)\n",
        "print(z%w-y/x*5+5)\n",
        "print(9-x%(2+y))\n",
        "print(z//w)\n",
        "print((2+y)**2)\n",
        "print(w/x*2)"
      ],
      "execution_count": null,
      "outputs": [
        {
          "output_type": "stream",
          "name": "stdout",
          "text": [
            "-0.3333333333333333\n",
            "-1.1666666666666667\n",
            "1.3333333333333335\n",
            "14\n",
            "-1\n",
            "16.5\n",
            "9\n",
            "-2\n",
            "1\n",
            "7.0\n"
          ]
        }
      ]
    }
  ]
}