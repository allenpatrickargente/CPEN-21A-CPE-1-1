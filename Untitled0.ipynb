{
  "nbformat": 4,
  "nbformat_minor": 0,
  "metadata": {
    "colab": {
      "name": "Untitled0.ipynb",
      "provenance": [],
      "authorship_tag": "ABX9TyPkWzdyLVDQG/q/d2DxkMgw",
      "include_colab_link": true
    },
    "kernelspec": {
      "name": "python3",
      "display_name": "Python 3"
    },
    "language_info": {
      "name": "python"
    }
  },
  "cells": [
    {
      "cell_type": "markdown",
      "metadata": {
        "id": "view-in-github",
        "colab_type": "text"
      },
      "source": [
        "<a href=\"https://colab.research.google.com/github/allenpatrickargente/CPEN-21A-CPE-1-1/blob/main/Untitled0.ipynb\" target=\"_parent\"><img src=\"https://colab.research.google.com/assets/colab-badge.svg\" alt=\"Open In Colab\"/></a>"
      ]
    },
    {
      "cell_type": "code",
      "metadata": {
        "colab": {
          "base_uri": "https://localhost:8080/"
        },
        "id": "KRMvPD92VnhF",
        "outputId": "d67ac008-715b-4423-b059-f92c96aa2e16"
      },
      "source": [
        "x = (\"Welcome to python prgoramming\")\n",
        "a = (\"name:Allen patrick M. Argente\")\n",
        "b = (\"Adress:Naic, Cavite \")\n",
        "c = (\"age:18\")\n",
        "print (x)\n",
        "print (a)\n",
        "print (b)\n",
        "print (c)\n"
      ],
      "execution_count": 9,
      "outputs": [
        {
          "output_type": "stream",
          "name": "stdout",
          "text": [
            "Welcome to python prgoramming\n",
            "name:Allen patrick M. Argente\n",
            "Adress:Naic, Cavite \n",
            "age:18\n"
          ]
        }
      ]
    }
  ]
}