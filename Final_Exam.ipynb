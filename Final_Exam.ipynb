{
  "nbformat": 4,
  "nbformat_minor": 0,
  "metadata": {
    "colab": {
      "name": "Final Exam.ipynb",
      "provenance": [],
      "authorship_tag": "ABX9TyNbNS7KcrT7r1ZlGBTHc3IA",
      "include_colab_link": true
    },
    "kernelspec": {
      "name": "python3",
      "display_name": "Python 3"
    },
    "language_info": {
      "name": "python"
    }
  },
  "cells": [
    {
      "cell_type": "markdown",
      "metadata": {
        "id": "view-in-github",
        "colab_type": "text"
      },
      "source": [
        "<a href=\"https://colab.research.google.com/github/allenpatrickargente/CPEN-21A-CPE-1-1/blob/main/Final_Exam.ipynb\" target=\"_parent\"><img src=\"https://colab.research.google.com/assets/colab-badge.svg\" alt=\"Open In Colab\"/></a>"
      ]
    },
    {
      "cell_type": "markdown",
      "source": [
        "##problem statement 1\n",
        "Create a Python program that will produce an output of sum of 10 numbers less than 5 using FOR LOOP statement."
      ],
      "metadata": {
        "id": "Q7nyWfnkeDHY"
      }
    },
    {
      "cell_type": "code",
      "execution_count": null,
      "metadata": {
        "colab": {
          "base_uri": "https://localhost:8080/"
        },
        "id": "oDjy_QXTdmzY",
        "outputId": "c9a8019d-fabe-4705-fcb9-70d730959840"
      },
      "outputs": [
        {
          "output_type": "stream",
          "name": "stdout",
          "text": [
            "-5\n"
          ]
        }
      ],
      "source": [
        "y=(-5+-4+-3+-2+-1+0+1+2+3+4)\n",
        "print(y)\n",
        " "
      ]
    },
    {
      "cell_type": "markdown",
      "source": [
        "## Problem Statement 2.\n",
        "Create a Python program that will produce accept five numbers and determine the sum of first and last number among the five numbers entered using WHILE LOOP"
      ],
      "metadata": {
        "id": "5pY1HkreeI9Z"
      }
    },
    {
      "cell_type": "code",
      "source": [
        "numbers=[3,5,8,12,15]\n",
        "for x in numbers:\n",
        "  print(x)\n",
        "x=2\n",
        "print(3+15)\n",
        " "
      ],
      "metadata": {
        "colab": {
          "base_uri": "https://localhost:8080/"
        },
        "id": "hlnXEd-2ezTL",
        "outputId": "3d39b656-3e95-4fe8-d711-90c4de36cdc3"
      },
      "execution_count": 155,
      "outputs": [
        {
          "output_type": "stream",
          "name": "stdout",
          "text": [
            "3\n",
            "5\n",
            "8\n",
            "12\n",
            "15\n",
            "18\n"
          ]
        }
      ]
    },
    {
      "cell_type": "markdown",
      "source": [
        "## Problem Statement 3.\n",
        "Create a Python program to calculate student grades. It accepts a numerical grade as input and it will display the character grade as output based on the given scale: (Use Nested-IF-Else statement)"
      ],
      "metadata": {
        "id": "LYn5Uomnezx-"
      }
    },
    {
      "cell_type": "code",
      "source": [
        "grade=int(input(\"Enter your grade\"))\n",
        "if grade>=90:\n",
        "  print(\"A\")\n",
        "if grade==89:\n",
        "  print(\"B\")\n",
        "if grade==88:\n",
        "  print(\"B\")\n",
        "if grade==87:\n",
        "  print(\"B\")\n",
        "if grade==86:\n",
        "  print(\"B\")\n",
        "if grade==85:\n",
        "  print(\"B\")\n",
        "if grade==84:\n",
        "  print(\"B\")\n",
        "if grade==83:\n",
        "  print(\"B\")\n",
        "if grade==82:\n",
        "  print(\"B\")\n",
        "if grade==81:\n",
        "  print(\"B\")\n",
        "if grade==80:\n",
        "  print(\"B\")\n",
        "if grade==79:\n",
        "  print(\"C\")\n",
        "if grade==78:\n",
        "  print(\"C\")\n",
        "if grade==77:\n",
        "  print(\"C\")\n",
        "if grade==76:\n",
        "  print(\"C\")\n",
        "if grade==75:\n",
        "  print(\"C\")\n",
        "if grade==74:\n",
        "  print(\"C\")\n",
        "if grade==73:\n",
        "  print(\"C\")\n",
        "if grade==72:\n",
        "  print(\"C\")\n",
        "if grade==71:\n",
        "  print(\"C\")\n",
        "if grade==70:\n",
        "  print(\"C\")\n",
        "if grade==69:\n",
        "  print(\"D\")\n",
        "if grade==68:\n",
        "  print(\"D\")\n",
        "if grade==67:\n",
        "  print(\"D\")\n",
        "if grade==66:\n",
        "  print(\"D\")\n",
        "if grade==65:\n",
        "  print(\"D\")\n",
        "if grade==64:\n",
        "  print(\"D\")\n",
        "if grade==63:\n",
        "  print(\"D\")\n",
        "if grade==62:\n",
        "  print(\"D\")\n",
        "if grade==61:\n",
        "  print(\"D\")\n",
        "if grade==60:\n",
        "  print(\"D\")\n",
        "elif grade<60:\n",
        " print(\"F\")\n"
      ],
      "metadata": {
        "colab": {
          "base_uri": "https://localhost:8080/"
        },
        "id": "Cp-NKuM0e_Gt",
        "outputId": "f1042518-53b6-483f-bbce-b3b97338330d"
      },
      "execution_count": 141,
      "outputs": [
        {
          "output_type": "stream",
          "name": "stdout",
          "text": [
            "Enter your grade1\n",
            "F\n"
          ]
        }
      ]
    }
  ]
}