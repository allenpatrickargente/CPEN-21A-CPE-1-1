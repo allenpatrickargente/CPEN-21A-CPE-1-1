{
  "nbformat": 4,
  "nbformat_minor": 0,
  "metadata": {
    "colab": {
      "provenance": [],
      "authorship_tag": "ABX9TyMHvRAeBb8dObR5q0lgBOeI",
      "include_colab_link": true
    },
    "kernelspec": {
      "name": "python3",
      "display_name": "Python 3"
    },
    "language_info": {
      "name": "python"
    }
  },
  "cells": [
    {
      "cell_type": "markdown",
      "metadata": {
        "id": "view-in-github",
        "colab_type": "text"
      },
      "source": [
        "<a href=\"https://colab.research.google.com/github/allenpatrickargente/CPEN-21A-CPE-1-1/blob/main/Untitled11.ipynb\" target=\"_parent\"><img src=\"https://colab.research.google.com/assets/colab-badge.svg\" alt=\"Open In Colab\"/></a>"
      ]
    },
    {
      "cell_type": "code",
      "execution_count": 1,
      "metadata": {
        "colab": {
          "base_uri": "https://localhost:8080/"
        },
        "id": "LYda3WY3WvWP",
        "outputId": "2eb7a9e1-636c-4102-fa57-717fe68f2db0"
      },
      "outputs": [
        {
          "output_type": "stream",
          "name": "stdout",
          "text": [
            "Accuracy: 0.88\n",
            "Recall: 0.8378378378378378\n",
            "Precision: 0.9393939393939394\n",
            "F1 Score: 0.8857142857142858\n"
          ]
        }
      ],
      "source": [
        "from sklearn.ensemble import AdaBoostClassifier\n",
        "from sklearn.metrics import accuracy_score, recall_score, precision_score, f1_score\n",
        "from sklearn.model_selection import train_test_split\n",
        "from sklearn.datasets import make_classification\n",
        "\n",
        "# Generate sample data\n",
        "X, y = make_classification(n_samples=1000, n_features=10, random_state=42)\n",
        "\n",
        "# Split the data into train and test sets\n",
        "X_train, X_test, y_train, y_test = train_test_split(X, y, test_size=0.2, random_state=42)\n",
        "\n",
        "# Create an AdaBoost classifier\n",
        "adaboost = AdaBoostClassifier(n_estimators=50, random_state=42)\n",
        "\n",
        "# Train the classifier\n",
        "adaboost.fit(X_train, y_train)\n",
        "\n",
        "# Make predictions on the test set\n",
        "y_pred = adaboost.predict(X_test)\n",
        "\n",
        "# Calculate accuracy, recall, precision, and F1 score\n",
        "accuracy = accuracy_score(y_test, y_pred)\n",
        "recall = recall_score(y_test, y_pred)\n",
        "precision = precision_score(y_test, y_pred)\n",
        "f1 = f1_score(y_test, y_pred)\n",
        "\n",
        "print(\"Accuracy:\", accuracy)\n",
        "print(\"Recall:\", recall)\n",
        "print(\"Precision:\", precision)\n",
        "print(\"F1 Score:\", f1)\n"
      ]
    },
    {
      "cell_type": "code",
      "source": [
        "from sklearn.ensemble import AdaBoostClassifier\n",
        "from sklearn.metrics import accuracy_score, recall_score, precision_score, f1_score\n",
        "from sklearn.model_selection import train_test_split\n",
        "from sklearn.datasets import make_classification\n",
        "from tabulate import tabulate\n",
        "\n",
        "# Generate sample data\n",
        "X, y = make_classification(n_samples=1000, n_features=10, random_state=42)\n",
        "\n",
        "# Split the data into train and test sets\n",
        "X_train, X_test, y_train, y_test = train_test_split(X, y, test_size=0.2, random_state=42)\n",
        "\n",
        "# Create an AdaBoost classifier\n",
        "adaboost = AdaBoostClassifier(n_estimators=50, random_state=42)\n",
        "\n",
        "# Train the classifier\n",
        "adaboost.fit(X_train, y_train)\n",
        "\n",
        "# Make predictions on the test set\n",
        "y_pred = adaboost.predict(X_test)\n",
        "\n",
        "# Calculate accuracy, recall, precision, and F1 score\n",
        "accuracy = accuracy_score(y_test, y_pred)\n",
        "recall = recall_score(y_test, y_pred)\n",
        "precision = precision_score(y_test, y_pred)\n",
        "f1 = f1_score(y_test, y_pred)\n",
        "\n",
        "# Create a table to display the results\n",
        "table = [\n",
        "    [\"Metric\", \"Score\"],\n",
        "    [\"Accuracy\", accuracy],\n",
        "    [\"Recall\", recall],\n",
        "    [\"Precision\", precision],\n",
        "    [\"F1 Score\", f1]\n",
        "]\n",
        "\n",
        "# Print the table\n",
        "print(tabulate(table, headers=\"firstrow\", tablefmt=\"grid\"))\n"
      ],
      "metadata": {
        "colab": {
          "base_uri": "https://localhost:8080/"
        },
        "id": "iOOXor1DXwE6",
        "outputId": "15e616c9-781f-4e82-c2f0-f9517b515ad9"
      },
      "execution_count": 2,
      "outputs": [
        {
          "output_type": "stream",
          "name": "stdout",
          "text": [
            "+-----------+----------+\n",
            "| Metric    |    Score |\n",
            "+===========+==========+\n",
            "| Accuracy  | 0.88     |\n",
            "+-----------+----------+\n",
            "| Recall    | 0.837838 |\n",
            "+-----------+----------+\n",
            "| Precision | 0.939394 |\n",
            "+-----------+----------+\n",
            "| F1 Score  | 0.885714 |\n",
            "+-----------+----------+\n"
          ]
        }
      ]
    },
    {
      "cell_type": "code",
      "source": [
        "from sklearn.neighbors import KNeighborsClassifier\n",
        "from sklearn.metrics import accuracy_score, recall_score, precision_score, f1_score\n",
        "from sklearn.model_selection import train_test_split\n",
        "from sklearn.datasets import make_classification\n",
        "from tabulate import tabulate\n",
        "\n",
        "# Generate sample data\n",
        "X, y = make_classification(n_samples=1000, n_features=10, random_state=42)\n",
        "\n",
        "# Split the data into train and test sets\n",
        "X_train, X_test, y_train, y_test = train_test_split(X, y, test_size=0.2, random_state=42)\n",
        "\n",
        "# Create a KNN classifier\n",
        "knn = KNeighborsClassifier(n_neighbors=5)\n",
        "\n",
        "# Train the classifier\n",
        "knn.fit(X_train, y_train)\n",
        "\n",
        "# Make predictions on the test set\n",
        "y_pred = knn.predict(X_test)\n",
        "\n",
        "# Calculate accuracy, recall, precision, and F1 score\n",
        "accuracy = accuracy_score(y_test, y_pred)\n",
        "recall = recall_score(y_test, y_pred)\n",
        "precision = precision_score(y_test, y_pred)\n",
        "f1 = f1_score(y_test, y_pred)\n",
        "\n",
        "# Create a table to display the results\n",
        "table = [\n",
        "    [\"Metric\", \"Score\"],\n",
        "    [\"Accuracy\", accuracy],\n",
        "    [\"Recall\", recall],\n",
        "    [\"Precision\", precision],\n",
        "    [\"F1 Score\", f1]\n",
        "]\n",
        "\n",
        "# Print the table\n",
        "print(tabulate(table, headers=\"firstrow\", tablefmt=\"grid\"))\n"
      ],
      "metadata": {
        "colab": {
          "base_uri": "https://localhost:8080/"
        },
        "id": "S1mMCj_-YDvx",
        "outputId": "1fe0742d-82b7-476e-dfba-5c69513b4c9f"
      },
      "execution_count": 3,
      "outputs": [
        {
          "output_type": "stream",
          "name": "stdout",
          "text": [
            "+-----------+----------+\n",
            "| Metric    |    Score |\n",
            "+===========+==========+\n",
            "| Accuracy  | 0.8      |\n",
            "+-----------+----------+\n",
            "| Recall    | 0.765766 |\n",
            "+-----------+----------+\n",
            "| Precision | 0.858586 |\n",
            "+-----------+----------+\n",
            "| F1 Score  | 0.809524 |\n",
            "+-----------+----------+\n"
          ]
        }
      ]
    }
  ]
}